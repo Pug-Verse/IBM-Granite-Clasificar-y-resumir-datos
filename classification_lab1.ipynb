# Instalamos los paquetes de Python necesarios

!pip install langchain_community 
!pip install replicate 

# Configuramos el entorno importando las bibliotecas necesarias, extrayendo el token de 
API, configurándolo como una variable de entorno, definiendo el modelo y creando una 
instancia del modelo Replicate. 

from langchain_community.llms import Replicate 
import os 
from google.colab import userdata
 
# Establecemos el token de API 
api_token = userdata.get('api_token') 
os.environ["REPLICATE_API_TOKEN"] = api_token 

# Configuración del modelo 
model = "ibm-granite/granite-3.0-8b-instruct" 

output = Replicate( 
model=model, replicate_api_token=api_token,)

# Ahora ingresamos muestras de reseñas de clientes para para su clasificación y probar la solicitud inicial 
# Definimos las opiniones de los clientes 

customer_reviews = [ 
"La batería dura todo el día y el rendimiento es excelente". 
"La pantalla es demasiado tenue en exteriores, pero me 
encantan los colores en interiores". 
"Este teléfono es lento y falla cuando abro ciertas 
aplicaciones". 
] 

# Refinamos la solicitud para incluir reseñas 
# reviews_text = "\n".join([f"Review {i+1}: {review}" for i, review in enumerate(customer_reviews)]) 

# prompt = f""" 
# Clasifica estas reseñas como positivas, negativas o mixtas: 

# {reviews_text} 
# """ 

# Invocamos el modelo con la solicitud de ejemplo 
# response = output.invoke(prompt)
 
# Imprimimos la respuesta 
# print("Granite Model Response:\n") 

# print(response) 

# Refinamos la solicitud paso a paso para mejorar la precisión y la estructura.
# Definimos una solicitud refinada 
# refined_prompt = f""" 
# Clasifica estas reseñas como positivas, negativas o mixtas y etiqueta las categorías pertinentes (duración de la batería, calidad de la pantalla o rendimiento): 

# {reviews_text} 
# """ 

# Invocamos el modelo con la solicitud de ejemplo 
# response = output.invoke(refined_prompt) 

# Imprimimos la respuesta 
# print("Granite Model Refined Response:\n")  

# print(response)

# Actualizamos la solicitud dividiendo la tarea en dos pasos: clasificación de sentimientos y 
etiquetado de los aspectos prioritarios. Escribe esta solicitud en el campo 
# Defini,ps la solicitud para completar la tarea en 2 pasos 
# multitask_prompt = f""" 
# Completa la tarea en 2 pasos. 
# Paso 1: Clasificar estas reseñas como positivas, negativas o mixtas. 
# Paso 2: Para cada reseña, identificar las categoríaspertinentes: duración de la batería, calidad de la pantalla o 
rendimiento. 

# {reviews_text} 
# """ 
# response = output.invoke(multitask_prompt) 
# print("Granite Model Response:\n") 

# print(response)

# Actualizamos la solicitud guiando el modelo para que siga un formato de resultado 
estructurado. Escribimos la siguiente solicitud en el campo Instrucción: 
# Definimos el ejemplo para guiar el modelo   
formatted_prompt = f""" 
Clasifica estas reseñas como positivas, negativas o mixtas y etiqueta las categorías pertinentes. Utiliza este formato:

- Sentimiento: [Sentimiento] 
- Categorías: [Categorías]. 

{reviews_text} 
""" 
# Invocamos el modelo con la solicitud 
response = output.invoke(formatted_prompt) 

# Imprimimos la respuesta 
print("Granite Model Formatted Response:\n") 
print(response)

# **** En este paso, ingresaremos una transcripción de la reunión para su resumen, escribiremos una 
solicitud básica para resumir la reunión y analizararemos las deficiencias del resultado. ****
customer_meetings = [ 
""" 
La reunión comenzó con una discusión sobre el presupuesto de 
marketing del tercer trimestre. Se decidió que el 40 % del 
presupuesto se destinará a anuncios digitales, el 30 % a eventos y 
el 30 % a campañas en redes sociales. El equipo enfatizó la 
necesidad de concretar asociaciones con influencers para aumentar 
la visibilidad de la marca y el marketing por correo electrónico 
para impulsar la interacción directa. El próximo mes se lanzará un 
programa piloto para probar nuevos formatos de anuncios y el 
equipo revisará los resultados a finales del tercer trimestre. 
Posteriormente, el equipo discutió las métricas de rendimiento de 
la campaña. El seguimiento del ROI será una máxima prioridad y se 
realizarán ajustes en función de los datos de rendimiento. 
El equipo de eventos planteó inquietudes sobre la asignación de 
recursos para las próximas ferias comerciales y se acordó que se 
reasignarían $10.000 adicionales para cubrir estos gastos. 
Por último, el equipo revisó nuevos conceptos creativos para la 
próxima campaña y decidió continuar con el Concepto 8, que tuvo 
mejores resultados entre los focus groups. Se ultimaron los plazos 
para la entrega de los activos de campaña: todos los entregables 
deben presentarse a más tardar el 15 de julio. 
""" 
] 

# Refinamos la solicitud para incluir reseñas
reviews_text = "\n".join([f"Review {i+1}: {review}" for i, review 
in enumerate(customer_meetings)]) 

# prompt = f""" 
# Resume esta reunión: 

# {reviews_text} 
# """ 

# Invocamos el modelo con la solicitud de ejemplo 
# response = output.invoke(prompt) 
# Imprimimos la respuesta 
# print("Granite Model Response:\n") 

# print(response) 

# Ahora refinaremos la solicitud paso a paso para mejorar la calidad del resultado del resumen. 
# Definimos una solicitud refinada 
# refined_prompt = f""" 
# Resume esta reunión en tres oraciones: 

# {reviews_text} 
# """ 

# Invocamos el modelo con la solicitud refinada 
# response = output.invoke(refined_prompt) 

# Imprimimos la respuesta 
# print("Granite Model Refined Response:\n") 

# print(response)

# Actualizamos la solicitud definiendo los aspectos prioritarios: puntos clave discutidos, 
decisiones y acciones pendientes.
# Definimos la solicitud con una solicitud refinada de aspectos prioritarios 
# refined_focusarea_prompt = f""" 
# Resume esta reunión centrándote en los puntos clave, las decisiones tomadas y las acciones pendientes: 

# {reviews_text} 
# """ 
# response = output.invoke(refined_focusarea_prompt)
# print("Granite Model Response for refined focus area response:\n") 
# print(response) 

# Actualizamos de nuevo la solicitud definiendo el formato del resultado: utilizamos títulos estructurados con 
un límite de dos viñetas en cada sección. 
# Definimos la solicitud con una solicitud de resultado refinada 
refined_outputformat_prompt = f""" 
Resume esta reunión en un formato estructurado utilizando los 
siguientes títulos: Puntos clave discutidos, Decisiones tomadas y 
Acciones pendientes. Menciona los cronogramas. 
Incluye solo dos viñetas concisas para cada título. 

{reviews_text} 
""" 
response = output.invoke(refined_outputformat_prompt)
print("Granite Model Response for refined output format response:\n") 
print(response) 
